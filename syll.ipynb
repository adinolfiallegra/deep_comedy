{
 "cells": [
  {
   "cell_type": "code",
   "execution_count": 3,
   "metadata": {},
   "outputs": [],
   "source": [
    "import re\n"
   ]
  },
  {
   "cell_type": "code",
   "execution_count": 78,
   "metadata": {},
   "outputs": [],
   "source": [
    "\n",
    "\n",
    "# Splits a single word into syllables.\n",
    "def syllabify_word(text):\n",
    "    return _perform_final_splits(_perform_initial_splits(text))\n",
    "\n",
    "# Performs the first (easy and unambiguous) phase of syllabification.\n",
    "def _perform_initial_splits(text):\n",
    "    return _split_hiatus(_split_dieresis(_split_double_cons(_split_multiple_cons(text))))\n",
    "\n",
    "# Performs the second (difficult and heuristic) phase of syllabification.\n",
    "def _perform_final_splits(text):\n",
    "    # ho aggiunto l'h -> 'richeggio'\n",
    "    cvcv = r\"\"\"(?i)([bcdfglmnpqrstvz][ÄäÁÀàáAaËëÉÈèéEeÏïÍÌíìIiÖöÓÒóòOoÜüÚÙúùUu]+)([bcdfglmnpqrstvz]+[ÄäÁÀàáAaËëÉÈèéEeÏïÍÌíìIiÖöÓÒóòOoÜüÚÙúùUuHh]+)\"\"\"\n",
    "    vcv = r\"\"\"(?i)([ÄäÁÀàáAaËëÉÈèéEeÏïÍÌíìIiÖöÓÒóòOoÜüÚÙúùUu]+)([bcdfglmnpqrstvz]+[ÄäÁÀàáAaËëÉÈèéEeÏïÍÌíìIiÖöÓÒóòOoÜüÚÙúùUu]+)\"\"\"\n",
    "#    vv = r\"\"\"(?i)(?<=[ÄäAaËëEeÏïIiÖöOoÜüUu])(?=[ÄäAaËëEeÏïIiÖöOoÜüUu])\"\"\"\n",
    "\n",
    "#    vv = r\"\"\"(?i)(?<=[AaEeIiOoUu])(?=[AaEeIiOoUu])\"\"\"\n",
    "\n",
    "    vv = r\"\"\"(?i)(?<=[ÄäÁÀàáAaËëÉÈèéEeÏïÍÌíìIiÖöÓÒóòOoÜüÚÙúùUu])(?=[ÄäÁÀàáAaËëÉÈèéEeÏïÍÌíìIiÖöÓÒóòOoÜüÚÙúùUu])\"\"\"\n",
    "\n",
    "    # Split the contoid vocoid - contoid vocoid case (eg. ca-ne). Deterministic.\n",
    "    out = re.sub(cvcv, r\"\"\"\\1#\\2\"\"\", text)\n",
    "    # Split the vocoid - contoid vocoid case (eg. ae-reo). Deterministic.\n",
    "    out = re.sub(vcv, r\"\"\"\\1#\\2\"\"\", out)\n",
    "\n",
    "    # Split the vocoid - vocoid case (eg. a-iuola). Heuristic.\n",
    "    out = _clump_diphthongs(out)\n",
    "    out = re.sub(vv, r\"\"\"#\"\"\", out)\n",
    "    out = re.sub(\"§\", \"\", out)\n",
    "\n",
    "    return out\n",
    "\n",
    "# Splits double consonants (eg. al-legro)\n",
    "def _split_double_cons(text): # ok\n",
    "    doubles = re.compile(r\"\"\"(?i)(([bcdfglmnpqrstvz])(?=\\2)|c(?=q))\"\"\")\n",
    "    return \"#\".join(doubles.sub(r\"\"\"\\1@\"\"\", text).split(\"@\"))\n",
    "\n",
    "# Splits multiple consonants, except: impure s (sc, sg, etc.), mute followed by liquide (eg. tr), digrams and trigrams.\n",
    "def _split_multiple_cons(text):\n",
    "    impures = re.compile(r\"\"\"(?i)(s(?=[bcdfghlmnpqrtvz]))\"\"\")\n",
    "    muteliquide = re.compile(r\"\"\"(?i)([bcdfgptv](?=[lr]))\"\"\")\n",
    "    digrams = re.compile(r\"\"\"(?i)(g(?=l[iì])|g(?=n[aeiouàèéìòóù])|s(?=c[eèéiì])|[cg](?=h[eèéiì])|[cg](?=i[aàoòuù]))\"\"\")\n",
    "    trigrams = re.compile(r\"\"\"(?i)(g(?=li[aàoòuù])|s(?=ci[aàoòuù]))\"\"\")\n",
    "    multicons = re.compile(r\"\"\"(?i)([bcdfglmnpqrstvz](?=[bcdfglmnpqrstvz]+))\"\"\")\n",
    "\n",
    "    # Preserve non admissibile splits.\n",
    "    out =\"§\".join(impures.sub(r\"\"\"\\1@\"\"\", text).split(\"@\"))\n",
    "    out = \"§\".join(muteliquide.sub(r\"\"\"\\1@\"\"\", out).split(\"@\"))\n",
    "    out = \"§\".join(digrams.sub(r\"\"\"\\1@\"\"\", out).split(\"@\"))\n",
    "    out = \"§\".join(trigrams.sub(r\"\"\"\\1@\"\"\", out).split(\"@\"))\n",
    "    # Split everything else.\n",
    "    out = \"#\".join(multicons.sub(r\"\"\"\\1@\"\"\", out).split(\"@\"))\n",
    "\n",
    "    return \"\".join(re.split(\"§\", out))\n",
    "\n",
    "# Splits dieresis.\n",
    "def _split_dieresis(text):\n",
    "    dieresis = re.compile(r\"\"\"(?i)([ÄäËëÏïÖöÜü](?=[aeiou])|[aeiou](?=[ÄäËëÏïÖöÜü]))\"\"\")\n",
    "    return \"#\".join(dieresis.sub(r\"\"\"\\1@\"\"\", text).split(\"@\"))\n",
    "\n",
    "# Splits SURE hiatuses only. Ambiguous ones are heuristically considered diphthongs.\n",
    "def _split_hiatus(text):\n",
    "    # ho tolto cose... i - u caso 'più','guida'\n",
    "    # e aggiunto ^\n",
    "    # hiatus = re.compile(r\"\"\"(?i)([aeoàèòóé](?=[aeoàèòóé])|[rbd]i(?=[aeou])|tri(?=[aeou])|[ìù](?=[aeiou])|[aeiou](?=[ìù]))\"\"\")\n",
    "    \n",
    "    # ok\n",
    "#    hiatus = re.compile(r\"\"\"(?i)([aeoàèòóé](?=[aeoàèòóé])|^[rbd]i(?=[aeou])|^tri(?=[aeou])|[ì](?=[aeo])|[aeo](?=[ì])|[ù](?=[aeo])|[aeo](?=[ù]))\"\"\")\n",
    "\n",
    "\n",
    "    hiatus = re.compile(r\"\"\"(?i)([aeo](?=[aeo])|^[rbd]i(?=[aeou])|^tri(?=[aeou])|[ì](?=[aeo])|[aeo](?=[ì])|[ù](?=[aeo])|[aeo](?=[ù]))\"\"\")\n",
    "\n",
    "    return \"#\".join(hiatus.sub(r\"\"\"\\1@\"\"\", text).split(\"@\"))\n",
    "\n",
    "# Prevents splitting of diphthongs and triphthongs.\n",
    "def _clump_diphthongs(text):\n",
    "    diphthong = r\"\"\"(?i)(i[aeouàèéòóù]|u[aeioàèéìòó]|[aeouàèéòóù]i|[aeàèé]u)\"\"\"\n",
    "    diphthongsep = r\"\"\"(\\{.)(.\\})\"\"\"\n",
    "    # triphthong = r\"\"\"(?i)(i[àèé]i|u[àòó]i|iu[òó]|ui[èéà])\"\"\" #nostra\n",
    "    triphthong = r\"\"\"(?i)(i[àèéòó]i|u[àèéòó]i|iu[òó]|ui[èéà])\"\"\" #nostra\n",
    "\n",
    "    triphthongsep = r\"\"\"(\\{.)(.)(.\\})\"\"\"\n",
    "\n",
    "    out = re.sub(triphthong, r\"\"\"{\\1}\"\"\", text)\n",
    "    out = re.sub(triphthongsep, r\"\"\"\\1§\\2§\\3\"\"\", out)\n",
    "    out = re.sub(diphthong, r\"\"\"{\\1}\"\"\", out)\n",
    "    out = re.sub(diphthongsep, r\"\"\"\\1§\\2\"\"\", out)\n",
    "    out = re.sub(r\"\"\"[{}]\"\"\", \"\", out)\n",
    "\n",
    "    return out"
   ]
  },
  {
   "cell_type": "code",
   "execution_count": 79,
   "metadata": {},
   "outputs": [],
   "source": [
    "words = ['litoràle', 'fèudo', 'diluìto', 'paùra', 'interstallàre', 'tèmpra', \n",
    "         'vòlto', 'gnòmo', 'sciàme', 'ingràto', 'esclùso', 'aiuòle', 'acqua', 'lasciàre',\n",
    "        'accreditàre', 'inglèse', 'gliène', 'guìda', 'guida', 'amìca','piìssimo',\n",
    "         'piuttòsto', 'dilüìre','diluìre', 'antiàcido','pènsièro','più', 'pìo', \n",
    "         'vìa', 'noi', 'nòi', 'lui', 'lùi', 'sua', 'sùa', 'io', 'ìo', 'troia', 'tròia', 'stùdio', 'quì', 'quèi']"
   ]
  },
  {
   "cell_type": "code",
   "execution_count": 80,
   "metadata": {},
   "outputs": [
    {
     "name": "stdout",
     "output_type": "stream",
     "text": [
      "li#to#rà#le\n",
      "fèu#do\n",
      "di#luì#to\n",
      "pa#ù#ra\n",
      "in#ter#stal#là#re\n",
      "tèm#pra\n",
      "vòl#to\n",
      "gnò#mo\n",
      "scià#me\n",
      "in#grà#to\n",
      "e#sclù#so\n",
      "a#iuò#le\n",
      "ac#qua\n",
      "la#scià#re\n",
      "ac#cre#di#tà#re\n",
      "in#glè#se\n",
      "gliè#ne\n",
      "guì#da\n",
      "gui#da\n",
      "a#mì#ca\n",
      "pi#ìs#si#mo\n",
      "piut#tò#sto\n",
      "di#lü#ì#re\n",
      "di#luì#re\n",
      "an#tià#ci#do\n",
      "pèn#siè#ro\n",
      "più\n",
      "pì#o\n",
      "vì#a\n",
      "noi\n",
      "nòi\n",
      "lui\n",
      "lùi\n",
      "sua\n",
      "sù#a\n",
      "io\n",
      "ì#o\n",
      "troi#a\n",
      "tròi#a\n",
      "stù#dio\n",
      "quì\n",
      "quèi\n"
     ]
    }
   ],
   "source": [
    "for w in words:\n",
    "    print(syllabify_word(w))"
   ]
  },
  {
   "cell_type": "code",
   "execution_count": 83,
   "metadata": {},
   "outputs": [
    {
     "name": "stdout",
     "output_type": "stream",
     "text": [
      "quèi\n"
     ]
    }
   ],
   "source": [
    "# to check\n",
    "w = 'quàle' # colpa del tone model -> corretto\n",
    "\n",
    "#w = 'parèa'\n",
    "\n",
    "# che  m'avea  di  paura  il  cor  compunto \n",
    "\n",
    "#w = 'quèi'\n",
    "\n",
    "#w = 'tròia'\n",
    "#w = 'vagliàre'\n",
    "#w = 'suòi'\n",
    "#w = 'mantoàna'\n",
    "w = 'quèi'\n",
    "\n",
    "print(syllabify_word(w))"
   ]
  },
  {
   "cell_type": "code",
   "execution_count": 82,
   "metadata": {},
   "outputs": [],
   "source": [
    "l = [['nel'], ['<word_sep>'], ['mez', 'zo'], ['<word_sep>'], ['del'], ['<word_sep>'], ['cam', 'min'], ['<word_sep>'], ['di'], ['<word_sep>'], ['no', 'stra'], ['<word_sep>'], ['vi', 'ta'], ['<end_of_verso>']]"
   ]
  },
  {
   "cell_type": "code",
   "execution_count": 70,
   "metadata": {},
   "outputs": [
    {
     "data": {
      "text/plain": [
       "['nel',\n",
       " '<word_sep>',\n",
       " 'mez',\n",
       " 'zo',\n",
       " '<word_sep>',\n",
       " 'del',\n",
       " '<word_sep>',\n",
       " 'cam',\n",
       " 'min',\n",
       " '<word_sep>',\n",
       " 'di',\n",
       " '<word_sep>',\n",
       " 'no',\n",
       " 'stra',\n",
       " '<word_sep>',\n",
       " 'vi',\n",
       " 'ta',\n",
       " '<end_of_verso>']"
      ]
     },
     "execution_count": 70,
     "metadata": {},
     "output_type": "execute_result"
    }
   ],
   "source": [
    "s = []\n",
    "for e in l:\n",
    "    s+=e\n",
    "s"
   ]
  },
  {
   "cell_type": "code",
   "execution_count": 33,
   "metadata": {},
   "outputs": [],
   "source": [
    "def is_diphtong(text):\n",
    "    diphthong = r\"\"\"(?i)(i[aeouàèéòóù]|u[aeioàèéìòó]|[aeouàèéòóù]i|[aeàèé]u)\"\"\"\n",
    "    if re.search(diphthong, text):\n",
    "        return True\n",
    "    else:\n",
    "        return False\n",
    "\n",
    "def is_hiatus(text):\n",
    "    hiatus = re.compile(r\"\"\"(?i)([aeoàèòóé](?=[aeoàèòóé])|^[rbd]i(?=[aeou])|^tri(?=[aeou])|[ì](?=[aeo])|[aeo](?=[ì])|[ù](?=[aeou])|[aeou](?=[ù]))\"\"\")\n",
    "    if re.search(hiatus, text):\n",
    "        return True\n",
    "    else:\n",
    "        return False"
   ]
  },
  {
   "cell_type": "code",
   "execution_count": 75,
   "metadata": {},
   "outputs": [
    {
     "data": {
      "text/plain": [
       "False"
      ]
     },
     "execution_count": 75,
     "metadata": {},
     "output_type": "execute_result"
    }
   ],
   "source": [
    "is_hiatus('io')"
   ]
  },
  {
   "cell_type": "code",
   "execution_count": 76,
   "metadata": {},
   "outputs": [
    {
     "data": {
      "text/plain": [
       "True"
      ]
     },
     "execution_count": 76,
     "metadata": {},
     "output_type": "execute_result"
    }
   ],
   "source": [
    "is_diphtong('ia')"
   ]
  },
  {
   "cell_type": "code",
   "execution_count": null,
   "metadata": {},
   "outputs": [],
   "source": []
  }
 ],
 "metadata": {
  "kernelspec": {
   "display_name": "Python 3",
   "language": "python",
   "name": "python3"
  },
  "language_info": {
   "codemirror_mode": {
    "name": "ipython",
    "version": 3
   },
   "file_extension": ".py",
   "mimetype": "text/x-python",
   "name": "python",
   "nbconvert_exporter": "python",
   "pygments_lexer": "ipython3",
   "version": "3.8.6"
  }
 },
 "nbformat": 4,
 "nbformat_minor": 4
}
